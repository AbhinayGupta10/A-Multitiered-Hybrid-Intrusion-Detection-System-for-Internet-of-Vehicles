{
  "nbformat": 4,
  "nbformat_minor": 0,
  "metadata": {
    "colab": {
      "provenance": []
    },
    "kernelspec": {
      "name": "python3",
      "display_name": "Python 3"
    },
    "language_info": {
      "name": "python"
    }
  },
  "cells": [
    {
      "cell_type": "code",
      "execution_count": null,
      "metadata": {
        "id": "EtVYeF0si5LX"
      },
      "outputs": [],
      "source": [
        "import warnings\n",
        "warnings.filterwarnings(\"ignore\")"
      ]
    },
    {
      "cell_type": "markdown",
      "source": [
        "# **IMPORTING LIBRARIES**"
      ],
      "metadata": {
        "id": "1rCHChl6xt-J"
      }
    },
    {
      "cell_type": "code",
      "source": [
        "import numpy as np\n",
        "import pandas as pd\n",
        "import seaborn as sns\n",
        "import matplotlib.pyplot as plt\n",
        "from sklearn.preprocessing import LabelEncoder\n",
        "from sklearn.model_selection import train_test_split\n",
        "from sklearn.metrics import classification_report,confusion_matrix,accuracy_score,precision_recall_fscore_support\n",
        "from sklearn.metrics import f1_score,roc_auc_score\n",
        "from sklearn.ensemble import RandomForestClassifier,ExtraTreesClassifier\n",
        "from sklearn.tree import DecisionTreeClassifier\n",
        "from sklearn.feature_selection import mutual_info_classif\n",
        "from imblearn.over_sampling import SMOTE\n",
        "from sklearn.cluster import KMeans\n",
        "from sklearn.cluster import DBSCAN,MeanShift\n",
        "from sklearn.cluster import SpectralClustering,AgglomerativeClustering,AffinityPropagation,Birch,MiniBatchKMeans,MeanShift \n",
        "from sklearn.mixture import GaussianMixture, BayesianGaussianMixture\n",
        "from sklearn import metrics\n",
        "import xgboost as xgb\n",
        "from keras.models import Sequential\n",
        "from keras.layers import Dense, Conv1D, Flatten, MaxPooling1D, Dropout\n",
        "from xgboost import plot_importance"
      ],
      "metadata": {
        "id": "5T_WDggqjoDC"
      },
      "execution_count": null,
      "outputs": []
    },
    {
      "cell_type": "markdown",
      "source": [
        "# **LOADING DATASET**"
      ],
      "metadata": {
        "id": "y2CMb02Xx60Q"
      }
    },
    {
      "cell_type": "code",
      "source": [
        "from google.colab import drive\n",
        "drive.mount('/content/drive')\n",
        "\n",
        "df = pd.read_csv('/content/drive/MyDrive/Cyber_Security/CICIDS2019_sample.csv',encoding=\"utf-8\")\n",
        "df.Label.value_counts()"
      ],
      "metadata": {
        "id": "VHAjASxLjqkf",
        "colab": {
          "base_uri": "https://localhost:8080/"
        },
        "outputId": "ba8d5631-64c8-4a92-ea12-ad59f15b0728"
      },
      "execution_count": null,
      "outputs": [
        {
          "output_type": "stream",
          "name": "stdout",
          "text": [
            "Mounted at /content/drive\n"
          ]
        },
        {
          "output_type": "execute_result",
          "data": {
            "text/plain": [
              "BENIGN          22731\n",
              "DoS             19035\n",
              "PortScan         7946\n",
              "BruteForce       2767\n",
              "WebAttack        2180\n",
              "Bot              1966\n",
              "Infiltration       36\n",
              "Name: Label, dtype: int64"
            ]
          },
          "metadata": {},
          "execution_count": 3
        }
      ]
    },
    {
      "cell_type": "markdown",
      "source": [
        "## **DATA PREPROCESSING**"
      ],
      "metadata": {
        "id": "oUtQl7EWmQ8s"
      }
    },
    {
      "cell_type": "markdown",
      "source": [
        "# **Z - Score Normalization**"
      ],
      "metadata": {
        "id": "41OyWqi9mYgd"
      }
    },
    {
      "cell_type": "code",
      "source": [
        "features = df.dtypes[df.dtypes != 'object'].index\n",
        "df[features] = df[features].apply(\n",
        "    lambda x: (x - x.mean()) / (x.std()))\n",
        "df = df.fillna(0)"
      ],
      "metadata": {
        "id": "ptq_cOPemT9z"
      },
      "execution_count": null,
      "outputs": []
    },
    {
      "cell_type": "markdown",
      "source": [
        "# **Lable-Encoder**\n"
      ],
      "metadata": {
        "id": "8dmqvGxwmuHb"
      }
    },
    {
      "cell_type": "code",
      "source": [
        "labelencoder = LabelEncoder()\n",
        "df.iloc[:, -1] = labelencoder.fit_transform(df.iloc[:, -1])\n",
        "df.Label.value_counts()\n",
        "\n",
        "df_minor = df[(df['Label']==6)|(df['Label']==1)|(df['Label']==4)]\n",
        "df_major = df.drop(df_minor.index)\n",
        "\n",
        "X = df_major.drop(['Label'],axis=1) \n",
        "y = df_major.iloc[:, -1].values.reshape(-1,1)\n",
        "y=np.ravel(y)"
      ],
      "metadata": {
        "id": "97-TKZi3mu2G"
      },
      "execution_count": null,
      "outputs": []
    },
    {
      "cell_type": "markdown",
      "source": [
        "# **K-Mean Clustering**"
      ],
      "metadata": {
        "id": "uEDSH183m21s"
      }
    },
    {
      "cell_type": "code",
      "source": [
        "kmeans = MiniBatchKMeans(n_clusters=1000, random_state=0).fit(X)\n",
        "\n",
        "klabel=kmeans.labels_\n",
        "df_major['klabel']=klabel\n",
        "\n",
        "df_major['klabel'].value_counts()\n",
        "\n",
        "cols = list(df_major)\n",
        "cols.insert(78, cols.pop(cols.index('Label')))\n",
        "df_major = df_major.loc[:, cols]\n",
        "\n",
        "df_major"
      ],
      "metadata": {
        "id": "cEPnUTr7m4dF",
        "colab": {
          "base_uri": "https://localhost:8080/",
          "height": 539
        },
        "outputId": "11cc63f4-cd7c-4a71-957b-924f1f9beb07"
      },
      "execution_count": null,
      "outputs": [
        {
          "output_type": "execute_result",
          "data": {
            "text/plain": [
              "       Flow Duration  Total Fwd Packets  Total Backward Packets  \\\n",
              "0          -0.528470          -0.068426               -0.081806   \n",
              "1          -0.524593           0.704878                0.850340   \n",
              "2          -0.525233           0.300651                0.339163   \n",
              "3          -0.524560           0.652153                0.745098   \n",
              "4          -0.524555           0.757604                0.805237   \n",
              "...              ...                ...                     ...   \n",
              "56656      -0.528463          -0.068426               -0.051737   \n",
              "56657      -0.524840          -0.068426               -0.051737   \n",
              "56658      -0.215111          -0.015701               -0.021667   \n",
              "56659      -0.215111           0.037025                0.008402   \n",
              "56660      -0.214989           0.037025               -0.006633   \n",
              "\n",
              "       Total Length of Fwd Packets  Total Length of Bwd Packets  \\\n",
              "0                        -0.032573                    -0.048343   \n",
              "1                         0.027749                     0.920410   \n",
              "2                         0.020443                     0.363712   \n",
              "3                         0.026625                     0.933533   \n",
              "4                         0.028030                     0.960037   \n",
              "...                            ...                          ...   \n",
              "56656                    -0.031309                    -0.046220   \n",
              "56657                    -0.029904                    -0.043932   \n",
              "56658                    -0.013231                    -0.016083   \n",
              "56659                    -0.014823                     0.058109   \n",
              "56660                    -0.019038                     0.058109   \n",
              "\n",
              "       Fwd Packet Length Max  Fwd Packet Length Min  Fwd Packet Length Mean  \\\n",
              "0                  -0.202326              -0.085798               -0.141625   \n",
              "1                   0.603275              -0.211174               -0.082434   \n",
              "2                   0.603275              -0.211174                0.044064   \n",
              "3                   0.603275              -0.211174               -0.074097   \n",
              "4                   0.603275              -0.211174               -0.091861   \n",
              "...                      ...                    ...                     ...   \n",
              "56656              -0.200831               0.457498               -0.064078   \n",
              "56657              -0.178412               0.770939                0.022086   \n",
              "56658               0.423920              -0.211174                0.269089   \n",
              "56659               0.373103              -0.211174                0.050807   \n",
              "56660               0.238587              -0.211174               -0.013815   \n",
              "\n",
              "       Fwd Packet Length Std  Bwd Packet Length Max  ...  Active Mean  \\\n",
              "0                  -0.176448              -0.559719  ...    -0.109889   \n",
              "1                   0.240596               1.006302  ...    -0.109889   \n",
              "2                   0.439619               0.484295  ...    -0.109889   \n",
              "3                   0.257378               1.006302  ...    -0.109889   \n",
              "4                   0.225734               1.006302  ...    -0.109889   \n",
              "...                      ...                    ...  ...          ...   \n",
              "56656              -0.255104              -0.517901  ...    -0.109889   \n",
              "56657              -0.255104              -0.472838  ...    -0.109889   \n",
              "56658               0.640328               0.711051  ...    -0.108682   \n",
              "56659               0.399311               1.528310  ...    -0.108677   \n",
              "56660               0.257731               3.111635  ...    -0.108683   \n",
              "\n",
              "       Active Std  Active Max  Active Min  Idle Mean  Idle Std  Idle Max  \\\n",
              "0       -0.081786   -0.128620   -0.094860  -0.458729 -0.137651 -0.466440   \n",
              "1       -0.081786   -0.128620   -0.094860  -0.458729 -0.137651 -0.466440   \n",
              "2       -0.081786   -0.128620   -0.094860  -0.458729 -0.137651 -0.466440   \n",
              "3       -0.081786   -0.128620   -0.094860  -0.458729 -0.137651 -0.466440   \n",
              "4       -0.081786   -0.128620   -0.094860  -0.458729 -0.137651 -0.466440   \n",
              "...           ...         ...         ...        ...       ...       ...   \n",
              "56656   -0.081786   -0.128620   -0.094860  -0.458729 -0.137651 -0.466440   \n",
              "56657   -0.081786   -0.128620   -0.094860  -0.458729 -0.137651 -0.466440   \n",
              "56658   -0.081786   -0.127669   -0.093554  -0.256386 -0.137651 -0.269448   \n",
              "56659   -0.081786   -0.127664   -0.093548  -0.256402 -0.137651 -0.269464   \n",
              "56660   -0.081786   -0.127670   -0.093555  -0.256275 -0.137651 -0.269340   \n",
              "\n",
              "       Idle Min  klabel  Label  \n",
              "0     -0.442057     133      0  \n",
              "1     -0.442057     410      0  \n",
              "2     -0.442057     682      0  \n",
              "3     -0.442057     410      0  \n",
              "4     -0.442057     410      0  \n",
              "...         ...     ...    ...  \n",
              "56656 -0.442057     851      0  \n",
              "56657 -0.442057     976      0  \n",
              "56658 -0.238252     352      3  \n",
              "56659 -0.238268     980      3  \n",
              "56660 -0.238140     328      3  \n",
              "\n",
              "[52479 rows x 79 columns]"
            ],
            "text/html": [
              "\n",
              "  <div id=\"df-3611a729-38c4-4f44-afa6-90564ea6b44b\">\n",
              "    <div class=\"colab-df-container\">\n",
              "      <div>\n",
              "<style scoped>\n",
              "    .dataframe tbody tr th:only-of-type {\n",
              "        vertical-align: middle;\n",
              "    }\n",
              "\n",
              "    .dataframe tbody tr th {\n",
              "        vertical-align: top;\n",
              "    }\n",
              "\n",
              "    .dataframe thead th {\n",
              "        text-align: right;\n",
              "    }\n",
              "</style>\n",
              "<table border=\"1\" class=\"dataframe\">\n",
              "  <thead>\n",
              "    <tr style=\"text-align: right;\">\n",
              "      <th></th>\n",
              "      <th>Flow Duration</th>\n",
              "      <th>Total Fwd Packets</th>\n",
              "      <th>Total Backward Packets</th>\n",
              "      <th>Total Length of Fwd Packets</th>\n",
              "      <th>Total Length of Bwd Packets</th>\n",
              "      <th>Fwd Packet Length Max</th>\n",
              "      <th>Fwd Packet Length Min</th>\n",
              "      <th>Fwd Packet Length Mean</th>\n",
              "      <th>Fwd Packet Length Std</th>\n",
              "      <th>Bwd Packet Length Max</th>\n",
              "      <th>...</th>\n",
              "      <th>Active Mean</th>\n",
              "      <th>Active Std</th>\n",
              "      <th>Active Max</th>\n",
              "      <th>Active Min</th>\n",
              "      <th>Idle Mean</th>\n",
              "      <th>Idle Std</th>\n",
              "      <th>Idle Max</th>\n",
              "      <th>Idle Min</th>\n",
              "      <th>klabel</th>\n",
              "      <th>Label</th>\n",
              "    </tr>\n",
              "  </thead>\n",
              "  <tbody>\n",
              "    <tr>\n",
              "      <th>0</th>\n",
              "      <td>-0.528470</td>\n",
              "      <td>-0.068426</td>\n",
              "      <td>-0.081806</td>\n",
              "      <td>-0.032573</td>\n",
              "      <td>-0.048343</td>\n",
              "      <td>-0.202326</td>\n",
              "      <td>-0.085798</td>\n",
              "      <td>-0.141625</td>\n",
              "      <td>-0.176448</td>\n",
              "      <td>-0.559719</td>\n",
              "      <td>...</td>\n",
              "      <td>-0.109889</td>\n",
              "      <td>-0.081786</td>\n",
              "      <td>-0.128620</td>\n",
              "      <td>-0.094860</td>\n",
              "      <td>-0.458729</td>\n",
              "      <td>-0.137651</td>\n",
              "      <td>-0.466440</td>\n",
              "      <td>-0.442057</td>\n",
              "      <td>133</td>\n",
              "      <td>0</td>\n",
              "    </tr>\n",
              "    <tr>\n",
              "      <th>1</th>\n",
              "      <td>-0.524593</td>\n",
              "      <td>0.704878</td>\n",
              "      <td>0.850340</td>\n",
              "      <td>0.027749</td>\n",
              "      <td>0.920410</td>\n",
              "      <td>0.603275</td>\n",
              "      <td>-0.211174</td>\n",
              "      <td>-0.082434</td>\n",
              "      <td>0.240596</td>\n",
              "      <td>1.006302</td>\n",
              "      <td>...</td>\n",
              "      <td>-0.109889</td>\n",
              "      <td>-0.081786</td>\n",
              "      <td>-0.128620</td>\n",
              "      <td>-0.094860</td>\n",
              "      <td>-0.458729</td>\n",
              "      <td>-0.137651</td>\n",
              "      <td>-0.466440</td>\n",
              "      <td>-0.442057</td>\n",
              "      <td>410</td>\n",
              "      <td>0</td>\n",
              "    </tr>\n",
              "    <tr>\n",
              "      <th>2</th>\n",
              "      <td>-0.525233</td>\n",
              "      <td>0.300651</td>\n",
              "      <td>0.339163</td>\n",
              "      <td>0.020443</td>\n",
              "      <td>0.363712</td>\n",
              "      <td>0.603275</td>\n",
              "      <td>-0.211174</td>\n",
              "      <td>0.044064</td>\n",
              "      <td>0.439619</td>\n",
              "      <td>0.484295</td>\n",
              "      <td>...</td>\n",
              "      <td>-0.109889</td>\n",
              "      <td>-0.081786</td>\n",
              "      <td>-0.128620</td>\n",
              "      <td>-0.094860</td>\n",
              "      <td>-0.458729</td>\n",
              "      <td>-0.137651</td>\n",
              "      <td>-0.466440</td>\n",
              "      <td>-0.442057</td>\n",
              "      <td>682</td>\n",
              "      <td>0</td>\n",
              "    </tr>\n",
              "    <tr>\n",
              "      <th>3</th>\n",
              "      <td>-0.524560</td>\n",
              "      <td>0.652153</td>\n",
              "      <td>0.745098</td>\n",
              "      <td>0.026625</td>\n",
              "      <td>0.933533</td>\n",
              "      <td>0.603275</td>\n",
              "      <td>-0.211174</td>\n",
              "      <td>-0.074097</td>\n",
              "      <td>0.257378</td>\n",
              "      <td>1.006302</td>\n",
              "      <td>...</td>\n",
              "      <td>-0.109889</td>\n",
              "      <td>-0.081786</td>\n",
              "      <td>-0.128620</td>\n",
              "      <td>-0.094860</td>\n",
              "      <td>-0.458729</td>\n",
              "      <td>-0.137651</td>\n",
              "      <td>-0.466440</td>\n",
              "      <td>-0.442057</td>\n",
              "      <td>410</td>\n",
              "      <td>0</td>\n",
              "    </tr>\n",
              "    <tr>\n",
              "      <th>4</th>\n",
              "      <td>-0.524555</td>\n",
              "      <td>0.757604</td>\n",
              "      <td>0.805237</td>\n",
              "      <td>0.028030</td>\n",
              "      <td>0.960037</td>\n",
              "      <td>0.603275</td>\n",
              "      <td>-0.211174</td>\n",
              "      <td>-0.091861</td>\n",
              "      <td>0.225734</td>\n",
              "      <td>1.006302</td>\n",
              "      <td>...</td>\n",
              "      <td>-0.109889</td>\n",
              "      <td>-0.081786</td>\n",
              "      <td>-0.128620</td>\n",
              "      <td>-0.094860</td>\n",
              "      <td>-0.458729</td>\n",
              "      <td>-0.137651</td>\n",
              "      <td>-0.466440</td>\n",
              "      <td>-0.442057</td>\n",
              "      <td>410</td>\n",
              "      <td>0</td>\n",
              "    </tr>\n",
              "    <tr>\n",
              "      <th>...</th>\n",
              "      <td>...</td>\n",
              "      <td>...</td>\n",
              "      <td>...</td>\n",
              "      <td>...</td>\n",
              "      <td>...</td>\n",
              "      <td>...</td>\n",
              "      <td>...</td>\n",
              "      <td>...</td>\n",
              "      <td>...</td>\n",
              "      <td>...</td>\n",
              "      <td>...</td>\n",
              "      <td>...</td>\n",
              "      <td>...</td>\n",
              "      <td>...</td>\n",
              "      <td>...</td>\n",
              "      <td>...</td>\n",
              "      <td>...</td>\n",
              "      <td>...</td>\n",
              "      <td>...</td>\n",
              "      <td>...</td>\n",
              "      <td>...</td>\n",
              "    </tr>\n",
              "    <tr>\n",
              "      <th>56656</th>\n",
              "      <td>-0.528463</td>\n",
              "      <td>-0.068426</td>\n",
              "      <td>-0.051737</td>\n",
              "      <td>-0.031309</td>\n",
              "      <td>-0.046220</td>\n",
              "      <td>-0.200831</td>\n",
              "      <td>0.457498</td>\n",
              "      <td>-0.064078</td>\n",
              "      <td>-0.255104</td>\n",
              "      <td>-0.517901</td>\n",
              "      <td>...</td>\n",
              "      <td>-0.109889</td>\n",
              "      <td>-0.081786</td>\n",
              "      <td>-0.128620</td>\n",
              "      <td>-0.094860</td>\n",
              "      <td>-0.458729</td>\n",
              "      <td>-0.137651</td>\n",
              "      <td>-0.466440</td>\n",
              "      <td>-0.442057</td>\n",
              "      <td>851</td>\n",
              "      <td>0</td>\n",
              "    </tr>\n",
              "    <tr>\n",
              "      <th>56657</th>\n",
              "      <td>-0.524840</td>\n",
              "      <td>-0.068426</td>\n",
              "      <td>-0.051737</td>\n",
              "      <td>-0.029904</td>\n",
              "      <td>-0.043932</td>\n",
              "      <td>-0.178412</td>\n",
              "      <td>0.770939</td>\n",
              "      <td>0.022086</td>\n",
              "      <td>-0.255104</td>\n",
              "      <td>-0.472838</td>\n",
              "      <td>...</td>\n",
              "      <td>-0.109889</td>\n",
              "      <td>-0.081786</td>\n",
              "      <td>-0.128620</td>\n",
              "      <td>-0.094860</td>\n",
              "      <td>-0.458729</td>\n",
              "      <td>-0.137651</td>\n",
              "      <td>-0.466440</td>\n",
              "      <td>-0.442057</td>\n",
              "      <td>976</td>\n",
              "      <td>0</td>\n",
              "    </tr>\n",
              "    <tr>\n",
              "      <th>56658</th>\n",
              "      <td>-0.215111</td>\n",
              "      <td>-0.015701</td>\n",
              "      <td>-0.021667</td>\n",
              "      <td>-0.013231</td>\n",
              "      <td>-0.016083</td>\n",
              "      <td>0.423920</td>\n",
              "      <td>-0.211174</td>\n",
              "      <td>0.269089</td>\n",
              "      <td>0.640328</td>\n",
              "      <td>0.711051</td>\n",
              "      <td>...</td>\n",
              "      <td>-0.108682</td>\n",
              "      <td>-0.081786</td>\n",
              "      <td>-0.127669</td>\n",
              "      <td>-0.093554</td>\n",
              "      <td>-0.256386</td>\n",
              "      <td>-0.137651</td>\n",
              "      <td>-0.269448</td>\n",
              "      <td>-0.238252</td>\n",
              "      <td>352</td>\n",
              "      <td>3</td>\n",
              "    </tr>\n",
              "    <tr>\n",
              "      <th>56659</th>\n",
              "      <td>-0.215111</td>\n",
              "      <td>0.037025</td>\n",
              "      <td>0.008402</td>\n",
              "      <td>-0.014823</td>\n",
              "      <td>0.058109</td>\n",
              "      <td>0.373103</td>\n",
              "      <td>-0.211174</td>\n",
              "      <td>0.050807</td>\n",
              "      <td>0.399311</td>\n",
              "      <td>1.528310</td>\n",
              "      <td>...</td>\n",
              "      <td>-0.108677</td>\n",
              "      <td>-0.081786</td>\n",
              "      <td>-0.127664</td>\n",
              "      <td>-0.093548</td>\n",
              "      <td>-0.256402</td>\n",
              "      <td>-0.137651</td>\n",
              "      <td>-0.269464</td>\n",
              "      <td>-0.238268</td>\n",
              "      <td>980</td>\n",
              "      <td>3</td>\n",
              "    </tr>\n",
              "    <tr>\n",
              "      <th>56660</th>\n",
              "      <td>-0.214989</td>\n",
              "      <td>0.037025</td>\n",
              "      <td>-0.006633</td>\n",
              "      <td>-0.019038</td>\n",
              "      <td>0.058109</td>\n",
              "      <td>0.238587</td>\n",
              "      <td>-0.211174</td>\n",
              "      <td>-0.013815</td>\n",
              "      <td>0.257731</td>\n",
              "      <td>3.111635</td>\n",
              "      <td>...</td>\n",
              "      <td>-0.108683</td>\n",
              "      <td>-0.081786</td>\n",
              "      <td>-0.127670</td>\n",
              "      <td>-0.093555</td>\n",
              "      <td>-0.256275</td>\n",
              "      <td>-0.137651</td>\n",
              "      <td>-0.269340</td>\n",
              "      <td>-0.238140</td>\n",
              "      <td>328</td>\n",
              "      <td>3</td>\n",
              "    </tr>\n",
              "  </tbody>\n",
              "</table>\n",
              "<p>52479 rows × 79 columns</p>\n",
              "</div>\n",
              "      <button class=\"colab-df-convert\" onclick=\"convertToInteractive('df-3611a729-38c4-4f44-afa6-90564ea6b44b')\"\n",
              "              title=\"Convert this dataframe to an interactive table.\"\n",
              "              style=\"display:none;\">\n",
              "        \n",
              "  <svg xmlns=\"http://www.w3.org/2000/svg\" height=\"24px\"viewBox=\"0 0 24 24\"\n",
              "       width=\"24px\">\n",
              "    <path d=\"M0 0h24v24H0V0z\" fill=\"none\"/>\n",
              "    <path d=\"M18.56 5.44l.94 2.06.94-2.06 2.06-.94-2.06-.94-.94-2.06-.94 2.06-2.06.94zm-11 1L8.5 8.5l.94-2.06 2.06-.94-2.06-.94L8.5 2.5l-.94 2.06-2.06.94zm10 10l.94 2.06.94-2.06 2.06-.94-2.06-.94-.94-2.06-.94 2.06-2.06.94z\"/><path d=\"M17.41 7.96l-1.37-1.37c-.4-.4-.92-.59-1.43-.59-.52 0-1.04.2-1.43.59L10.3 9.45l-7.72 7.72c-.78.78-.78 2.05 0 2.83L4 21.41c.39.39.9.59 1.41.59.51 0 1.02-.2 1.41-.59l7.78-7.78 2.81-2.81c.8-.78.8-2.07 0-2.86zM5.41 20L4 18.59l7.72-7.72 1.47 1.35L5.41 20z\"/>\n",
              "  </svg>\n",
              "      </button>\n",
              "      \n",
              "  <style>\n",
              "    .colab-df-container {\n",
              "      display:flex;\n",
              "      flex-wrap:wrap;\n",
              "      gap: 12px;\n",
              "    }\n",
              "\n",
              "    .colab-df-convert {\n",
              "      background-color: #E8F0FE;\n",
              "      border: none;\n",
              "      border-radius: 50%;\n",
              "      cursor: pointer;\n",
              "      display: none;\n",
              "      fill: #1967D2;\n",
              "      height: 32px;\n",
              "      padding: 0 0 0 0;\n",
              "      width: 32px;\n",
              "    }\n",
              "\n",
              "    .colab-df-convert:hover {\n",
              "      background-color: #E2EBFA;\n",
              "      box-shadow: 0px 1px 2px rgba(60, 64, 67, 0.3), 0px 1px 3px 1px rgba(60, 64, 67, 0.15);\n",
              "      fill: #174EA6;\n",
              "    }\n",
              "\n",
              "    [theme=dark] .colab-df-convert {\n",
              "      background-color: #3B4455;\n",
              "      fill: #D2E3FC;\n",
              "    }\n",
              "\n",
              "    [theme=dark] .colab-df-convert:hover {\n",
              "      background-color: #434B5C;\n",
              "      box-shadow: 0px 1px 3px 1px rgba(0, 0, 0, 0.15);\n",
              "      filter: drop-shadow(0px 1px 2px rgba(0, 0, 0, 0.3));\n",
              "      fill: #FFFFFF;\n",
              "    }\n",
              "  </style>\n",
              "\n",
              "      <script>\n",
              "        const buttonEl =\n",
              "          document.querySelector('#df-3611a729-38c4-4f44-afa6-90564ea6b44b button.colab-df-convert');\n",
              "        buttonEl.style.display =\n",
              "          google.colab.kernel.accessAllowed ? 'block' : 'none';\n",
              "\n",
              "        async function convertToInteractive(key) {\n",
              "          const element = document.querySelector('#df-3611a729-38c4-4f44-afa6-90564ea6b44b');\n",
              "          const dataTable =\n",
              "            await google.colab.kernel.invokeFunction('convertToInteractive',\n",
              "                                                     [key], {});\n",
              "          if (!dataTable) return;\n",
              "\n",
              "          const docLinkHtml = 'Like what you see? Visit the ' +\n",
              "            '<a target=\"_blank\" href=https://colab.research.google.com/notebooks/data_table.ipynb>data table notebook</a>'\n",
              "            + ' to learn more about interactive tables.';\n",
              "          element.innerHTML = '';\n",
              "          dataTable['output_type'] = 'display_data';\n",
              "          await google.colab.output.renderOutput(dataTable, element);\n",
              "          const docLink = document.createElement('div');\n",
              "          docLink.innerHTML = docLinkHtml;\n",
              "          element.appendChild(docLink);\n",
              "        }\n",
              "      </script>\n",
              "    </div>\n",
              "  </div>\n",
              "  "
            ]
          },
          "metadata": {},
          "execution_count": 6
        }
      ]
    },
    {
      "cell_type": "code",
      "source": [
        "def typicalSampling(group):\n",
        "    name = group.name\n",
        "    frac = 0.008\n",
        "    return group.sample(frac=frac)\n",
        "\n",
        "result = df_major.groupby(\n",
        "    'klabel', group_keys=False\n",
        ").apply(typicalSampling)\n",
        "\n",
        "result['Label'].value_counts()\n",
        "\n",
        "result\n",
        "\n",
        "result = result.drop(['klabel'],axis=1)\n",
        "result = result.append(df_minor)\n",
        "\n",
        "result.to_csv('/content/drive/MyDrive/Cyber_Security/CICIDS2019_sample_km.csv',index=0)"
      ],
      "metadata": {
        "id": "OR42kw4Dm-1Y"
      },
      "execution_count": null,
      "outputs": []
    },
    {
      "cell_type": "markdown",
      "source": [
        "# **Spliting Dataset**"
      ],
      "metadata": {
        "id": "LSWXIKycoIJG"
      }
    },
    {
      "cell_type": "code",
      "source": [
        "df=pd.read_csv('/content/drive/MyDrive/Cyber_Security/CICIDS2019_sample_km.csv',encoding = \"utf-8\")\n",
        "\n",
        "X = df.drop(['Label'],axis=1).values\n",
        "y = df.iloc[:, -1].values.reshape(-1,1)\n",
        "y=np.ravel(y)\n",
        "\n",
        "X_train, X_test, y_train, y_test = train_test_split(X,y, train_size = 0.8, test_size = 0.2, random_state = 0,stratify = y)"
      ],
      "metadata": {
        "id": "qZO9BCZooJSv"
      },
      "execution_count": null,
      "outputs": []
    },
    {
      "cell_type": "markdown",
      "source": [
        "# **Feature Engineering**"
      ],
      "metadata": {
        "id": "EiTiMS-doMCo"
      }
    },
    {
      "cell_type": "markdown",
      "source": [
        "# **Feature Selection By Information Gain**"
      ],
      "metadata": {
        "id": "O1CT5afroPS0"
      }
    },
    {
      "cell_type": "code",
      "source": [
        "importances = mutual_info_classif(X_train, y_train)\n",
        "\n",
        "f_list = sorted(zip(map(lambda x: round(x, 4), importances), features), reverse=True)\n",
        "Sum = 0\n",
        "fs = []\n",
        "for i in range(0, len(f_list)):\n",
        "    Sum = Sum + f_list[i][0]\n",
        "    fs.append(f_list[i][1])\n",
        "\n",
        "f_list2 = sorted(zip(map(lambda x: round(x, 4), importances/Sum), features), reverse=True)\n",
        "Sum2 = 0\n",
        "fs = []\n",
        "for i in range(0, len(f_list2)):\n",
        "    Sum2 = Sum2 + f_list2[i][0]\n",
        "    fs.append(f_list2[i][1])\n",
        "    if Sum2>=0.9:\n",
        "        break     \n",
        "\n",
        "X_fs = df[fs].values \n",
        "\n",
        "X_fs.shape"
      ],
      "metadata": {
        "id": "zRGt6O1yoSeQ",
        "colab": {
          "base_uri": "https://localhost:8080/"
        },
        "outputId": "9713fd9e-6c9c-406e-9e72-1f922980c9cc"
      },
      "execution_count": null,
      "outputs": [
        {
          "output_type": "execute_result",
          "data": {
            "text/plain": [
              "(4483, 41)"
            ]
          },
          "metadata": {},
          "execution_count": 9
        }
      ]
    },
    {
      "cell_type": "markdown",
      "source": [
        "# **Feature Selection by Fast Correlation Based Filter (FCBF)**\n"
      ],
      "metadata": {
        "id": "Rv4bP6qDolG7"
      }
    },
    {
      "cell_type": "code",
      "source": [
        "def count_vals(x):\n",
        "    vals = np.unique(x)\n",
        "    occ = np.zeros(shape = vals.shape)    \n",
        "    for i in range(vals.size):\n",
        "        occ[i] = np.sum(x == vals[i])\n",
        "    return occ\n",
        "\n",
        "def entropy(x):\n",
        "    n = float(x.shape[0])\n",
        "    ocurrence = count_vals(x)\n",
        "    px = ocurrence / n\n",
        "    return -1* np.sum(px*np.log2(px))\n",
        "\n",
        "def symmetricalUncertain(x,y):\n",
        "    n = float(y.shape[0])\n",
        "    vals = np.unique(y)\n",
        "    # Computing Entropy for the feature x. \n",
        "    Hx = entropy(x)\n",
        "    # Computing Entropy for the feature y.\n",
        "    Hy = entropy(y)\n",
        "    #Computing Joint entropy between x and y.\n",
        "    partial = np.zeros(shape = (vals.shape[0]))\n",
        "    for i in range(vals.shape[0]):    \n",
        "       partial[i] = entropy(x[y == vals[i]]) \n",
        "    \n",
        "    partial[np.isnan(partial)==1] = 0      \n",
        "    py = count_vals(y).astype(dtype = 'float64') / n\n",
        "    Hxy = np.sum(py[py > 0]*partial) \n",
        "    IG = Hx-Hxy\n",
        "    return 2*IG/(Hx+Hy)\n",
        "\n",
        "def suGroup(x, n):\n",
        "    m = x.shape[0]\n",
        "    x = np.reshape(x, (n,m/n)).T\n",
        "    m = x.shape[1]\n",
        "    SU_matrix = np.zeros(shape = (m,m))\n",
        "    for j in range(m-1):\n",
        "        x2 = x[:,j+1::]\n",
        "        y = x[:,j]\n",
        "        temp = np.apply_along_axis(symmetricalUncertain, 0, x2, y)\n",
        "        for k in range(temp.shape[0]):\n",
        "            SU_matrix[j,j+1::] = temp\n",
        "            SU_matrix[j+1::,j] = temp\n",
        "    \n",
        "    return 1/float(m-1)*np.sum(SU_matrix, axis = 1)\n",
        "\n",
        "def isprime(a):\n",
        "    return all(a % i for i in xrange(2, a))\n",
        "\n",
        "def get_i(a):\n",
        "    if isprime(a):\n",
        "        a -= 1\n",
        "    return filter(lambda x: a % x == 0, range(2,a))\n",
        "\n",
        "class FCBF:\n",
        "    \n",
        "    idx_sel = []\n",
        "    \n",
        "    \n",
        "    def __init__(self, th = 0.01):\n",
        "        \n",
        "        self.th = th\n",
        "\n",
        "\n",
        "    def fit(self, x, y):\n",
        "      \n",
        "        self.idx_sel = []\n",
        "       \n",
        "        SU_vec = np.apply_along_axis(symmetricalUncertain, 0, x, y)\n",
        "        SU_list = SU_vec[SU_vec > self.th]\n",
        "        SU_list[::-1].sort()\n",
        "        \n",
        "        m = x[:,SU_vec > self.th].shape\n",
        "        x_sorted = np.zeros(shape = m)\n",
        "        \n",
        "        for i in range(m[1]):\n",
        "            ind = np.argmax(SU_vec)\n",
        "            SU_vec[ind] = 0\n",
        "            x_sorted[:,i] = x[:,ind].copy()\n",
        "            self.idx_sel.append(ind)\n",
        "        \n",
        "   \n",
        "        j = 0\n",
        "        while True:\n",
        "            \n",
        "            if j >= x_sorted.shape[1]: break\n",
        "            y = x_sorted[:,j].copy()\n",
        "            x_list = x_sorted[:,j+1:].copy()\n",
        "            if x_list.shape[1] == 0: break\n",
        "                \n",
        "                \n",
        "            SU_list_2 = SU_list[j+1:]\n",
        "            SU_x = np.apply_along_axis(symmetricalUncertain, 0, \n",
        "                                       x_list, y)\n",
        "            \n",
        "            comp_SU = SU_x >= SU_list_2\n",
        "            to_remove = np.where(comp_SU)[0] + j + 1 \n",
        "            if to_remove.size > 0:\n",
        "                x_sorted = np.delete(x_sorted, to_remove, axis = 1)\n",
        "                SU_list = np.delete(SU_list, to_remove, axis = 0)\n",
        "                to_remove.sort()\n",
        "                for r in reversed(to_remove): \n",
        "                    self.idx_sel.remove(self.idx_sel[r])\n",
        "            j = j + 1        \n",
        "            \n",
        "    def fit_transform(self, x, y):\n",
        "        \n",
        "        self.fit(x, y)\n",
        "        return x[:,self.idx_sel]\n",
        "         \n",
        "    def transform(self, x):\n",
        "       \n",
        "        return x[:, self.idx_sel]  \n",
        "\n",
        "\n",
        "\n",
        "class FCBFK(FCBF):\n",
        "    \n",
        "    idx_sel = []\n",
        "    \n",
        "    \n",
        "    def __init__(self, k = 10):\n",
        "       \n",
        "        self.k = k\n",
        "\n",
        "\n",
        "    def fit(self, x, y):\n",
        "       \n",
        "        self.idx_sel = []\n",
        "        \n",
        "        SU_vec = np.apply_along_axis(symmetricalUncertain, 0, x, y)\n",
        "        \n",
        "        SU_list = SU_vec[SU_vec > 0]\n",
        "        SU_list[::-1].sort()\n",
        "        \n",
        "        m = x[:,SU_vec > 0].shape\n",
        "        x_sorted = np.zeros(shape = m)\n",
        "        \n",
        "        for i in range(m[1]):\n",
        "            ind = np.argmax(SU_vec)\n",
        "            SU_vec[ind] = 0\n",
        "            x_sorted[:,i] = x[:,ind].copy() \n",
        "            self.idx_sel.append(ind)\n",
        "        \n",
        "        j = 0\n",
        "        while True:\n",
        "            y = x_sorted[:,j].copy()\n",
        "            SU_list_2 = SU_list[j+1:]    \n",
        "            x_list = x_sorted[:,j+1:].copy()\n",
        "            \n",
        "          \n",
        "            if x_list.shape[1] == 0: break\n",
        "                \n",
        "                \n",
        "            SU_x = np.apply_along_axis(symmetricalUncertain, 0, \n",
        "                                       x_list, y)\n",
        "            \n",
        "            comp_SU = SU_x >= SU_list_2\n",
        "            to_remove = np.where(comp_SU)[0] + j + 1 \n",
        "            if to_remove.size > 0 and x.shape[1] > self.k:\n",
        "    \n",
        "                for i in reversed(to_remove):\n",
        "                    \n",
        "                    x_sorted = np.delete(x_sorted, i, axis = 1)\n",
        "                    SU_list = np.delete(SU_list, i, axis = 0)                \n",
        "                    self.idx_sel.remove(self.idx_sel[i])\n",
        "                    if x_sorted.shape[1] == self.k: break  \n",
        "                    \n",
        "            if x_list.shape[1] == 1 or x_sorted.shape[1] == self.k: \n",
        "                break    \n",
        "            j = j + 1\n",
        "            \n",
        "        if len(self.idx_sel) > self.k:\n",
        "            self.idx_sel = self.idx_sel[:self.k]\n",
        "                   \n",
        "            \n",
        "class FCBFiP(FCBF):\n",
        "    \n",
        "    idx_sel = []\n",
        "\n",
        "\n",
        "    def __init__(self, k = 10, npieces = 2):\n",
        "        self.k = k\n",
        "        self.npieces = npieces\n",
        "\n",
        "    def fit(self, x, y):\n",
        "        m = x.shape\n",
        "        nfeaturesPieces = int(m[1] / float(self.npieces))        \n",
        "        SU_vec = np.apply_along_axis(symmetricalUncertain, 0, x, y)\n",
        "        \n",
        "        x_sorted = np.zeros(shape = m, dtype = 'float64')        \n",
        "        idx_sorted = np.zeros(shape = m[1], dtype = 'int64')\n",
        "        for i in range(m[1]):\n",
        "            ind = np.argmax(SU_vec)\n",
        "            SU_vec[ind] = -1\n",
        "            idx_sorted[i]= ind \n",
        "            x_sorted[:,i] = x[:,ind].copy() \n",
        "\n",
        "        if isprime(m[1]): \n",
        "            x_sorted = np.delete(x_sorted, m[1]-1, axis = 1 )\n",
        "            ind_prime = idx_sorted[m[1]-1]\n",
        "            idx_sorted = np.delete(idx_sorted, m[1]-1)\n",
        "            #m = x_sorted.shape\n",
        "        \n",
        "        \n",
        "        x_2d = np.reshape(x_sorted.T, (self.npieces, nfeaturesPieces*m[0])).T\n",
        "    \n",
        "        SU_x =  np.apply_along_axis(suGroup, 0, x_2d, nfeaturesPieces)\n",
        "        SU_x = np.reshape(SU_x.T, (self.npieces*nfeaturesPieces,))\n",
        "        idx_sorted2 = np.zeros(shape = idx_sorted.shape, dtype = 'int64')\n",
        "        SU_x[np.isnan(SU_x)] = 1        \n",
        "        \n",
        "        for i in range(idx_sorted.shape[0]):\n",
        "            ind =  np.argmin(SU_x)\n",
        "            idx_sorted2[i] = idx_sorted[ind]\n",
        "            SU_x[ind] = 10    \n",
        "       \n",
        "        self.scores = np.zeros(shape = m[1], dtype = 'int64') \n",
        "           \n",
        "        for i in range(m[1]):\n",
        "            if i in idx_sorted:\n",
        "                self.scores[i] = np.argwhere(i == idx_sorted) + np.argwhere(i == idx_sorted2)\n",
        "        if isprime(m[1]): \n",
        "            self.scores[ind_prime] = 2*m[1]\n",
        "        self.set_k(self.k)\n",
        "\n",
        "\n",
        "    def set_k(self, k):\n",
        "        self.k = k \n",
        "        scores_temp = -1*self.scores\n",
        "        \n",
        "        self.idx_sel = np.zeros(shape = self.k, dtype = 'int64')\n",
        "        for i in range(self.k):\n",
        "            ind =  np.argmax(scores_temp)\n",
        "            scores_temp[ind] = -100000000\n",
        "            self.idx_sel[i] = ind"
      ],
      "metadata": {
        "id": "FZiQMCwColue"
      },
      "execution_count": null,
      "outputs": []
    },
    {
      "cell_type": "code",
      "source": [
        "fcbf = FCBFK(k = 20)\n",
        "fcbf.fit(X_fs, y)\n",
        "\n",
        "X_fss = fcbf.fit_transform(X_fs,y)\n",
        "\n",
        "X_fss.shape"
      ],
      "metadata": {
        "id": "FELp4Sq9ou1R",
        "colab": {
          "base_uri": "https://localhost:8080/"
        },
        "outputId": "bf4db8a7-46f2-4b43-9a10-b2285e2ac2da"
      },
      "execution_count": null,
      "outputs": [
        {
          "output_type": "execute_result",
          "data": {
            "text/plain": [
              "(4483, 20)"
            ]
          },
          "metadata": {},
          "execution_count": 11
        }
      ]
    },
    {
      "cell_type": "markdown",
      "source": [
        "# **Spliting Dataset After Feature Selection**"
      ],
      "metadata": {
        "id": "XgcThmvho5L-"
      }
    },
    {
      "cell_type": "code",
      "source": [
        "X_train, X_test, y_train, y_test = train_test_split(X_fs,y, train_size = 0.8, test_size = 0.2, random_state = 0,stratify = y)\n",
        "\n",
        "X_train.shape\n",
        "\n",
        "pd.Series(y_train).value_counts()"
      ],
      "metadata": {
        "id": "96i4f4pBo5_l",
        "colab": {
          "base_uri": "https://localhost:8080/"
        },
        "outputId": "463734c0-ea8b-461f-a6d6-81bc1fbe6d81"
      },
      "execution_count": null,
      "outputs": [
        {
          "output_type": "execute_result",
          "data": {
            "text/plain": [
              "6    1744\n",
              "1    1573\n",
              "0      94\n",
              "3      84\n",
              "5      45\n",
              "4      29\n",
              "2      17\n",
              "dtype: int64"
            ]
          },
          "metadata": {},
          "execution_count": 12
        }
      ]
    },
    {
      "cell_type": "markdown",
      "source": [
        "# **SMOTE To Solve Class-Imbalance**"
      ],
      "metadata": {
        "id": "rPXWVqzHo-ri"
      }
    },
    {
      "cell_type": "code",
      "source": [
        "smote=SMOTE(n_jobs=-1,sampling_strategy={2:1000,4:1000})\n",
        "\n",
        "X_train, y_train = smote.fit_resample(X_train, y_train)\n",
        "\n",
        "pd.Series(y_train).value_counts()"
      ],
      "metadata": {
        "id": "b0ZtdqvYpADO",
        "colab": {
          "base_uri": "https://localhost:8080/"
        },
        "outputId": "9937bcb3-574b-4c24-ecc7-f086b9a0e591"
      },
      "execution_count": null,
      "outputs": [
        {
          "output_type": "execute_result",
          "data": {
            "text/plain": [
              "6    1744\n",
              "1    1573\n",
              "4    1000\n",
              "2    1000\n",
              "0      94\n",
              "3      84\n",
              "5      45\n",
              "dtype: int64"
            ]
          },
          "metadata": {},
          "execution_count": 13
        }
      ]
    },
    {
      "cell_type": "markdown",
      "source": [
        "# **Machine Learning Model Training** "
      ],
      "metadata": {
        "id": "kubmUFGspPSW"
      }
    },
    {
      "cell_type": "markdown",
      "source": [
        "# **Desicion Tree**"
      ],
      "metadata": {
        "id": "q6PROZ_bpToR"
      }
    },
    {
      "cell_type": "code",
      "source": [
        "dt = DecisionTreeClassifier(random_state = 0)\n",
        "dt.fit(X_train,y_train) \n",
        "dt_score=dt.score(X_test,y_test)\n",
        "y_predict=dt.predict(X_test)\n",
        "y_true=y_test\n",
        "print('Accuracy of DT: '+ str(dt_score))\n",
        "precision,recall,fscore,none= precision_recall_fscore_support(y_true, y_predict, average='weighted') \n",
        "print('Precision of DT: '+(str(precision)))\n",
        "print('Recall of DT: '+(str(recall)))\n",
        "print('F1-score of DT: '+(str(fscore)))\n",
        "print(classification_report(y_true,y_predict))\n",
        "cm=confusion_matrix(y_true,y_predict)\n"
      ],
      "metadata": {
        "id": "CPFjIGU6pU0j",
        "colab": {
          "base_uri": "https://localhost:8080/"
        },
        "outputId": "eced7d1d-e5f7-40dc-8f21-51f6581f52a0"
      },
      "execution_count": null,
      "outputs": [
        {
          "output_type": "stream",
          "name": "stdout",
          "text": [
            "Accuracy of DT: 0.9966555183946488\n",
            "Precision of DT: 0.9968480968505842\n",
            "Recall of DT: 0.9966555183946488\n",
            "F1-score of DT: 0.996594798191746\n",
            "              precision    recall  f1-score   support\n",
            "\n",
            "           0       1.00      0.88      0.93        24\n",
            "           1       1.00      1.00      1.00       393\n",
            "           2       1.00      1.00      1.00         4\n",
            "           3       0.95      1.00      0.98        21\n",
            "           4       0.88      1.00      0.93         7\n",
            "           5       1.00      1.00      1.00        12\n",
            "           6       1.00      1.00      1.00       436\n",
            "\n",
            "    accuracy                           1.00       897\n",
            "   macro avg       0.98      0.98      0.98       897\n",
            "weighted avg       1.00      1.00      1.00       897\n",
            "\n"
          ]
        }
      ]
    },
    {
      "cell_type": "markdown",
      "source": [
        "# **Random Forest**"
      ],
      "metadata": {
        "id": "IZvi3jl6pb_H"
      }
    },
    {
      "cell_type": "code",
      "source": [
        "rf = RandomForestClassifier(random_state = 0)\n",
        "rf.fit(X_train,y_train) \n",
        "rf_score=rf.score(X_test,y_test)\n",
        "y_predict=rf.predict(X_test)\n",
        "y_true=y_test\n",
        "print('Accuracy of RF: '+ str(rf_score))\n",
        "precision,recall,fscore,none= precision_recall_fscore_support(y_true, y_predict, average='weighted') \n",
        "print('Precision of RF: '+(str(precision)))\n",
        "print('Recall of RF: '+(str(recall)))\n",
        "print('F1-score of RF: '+(str(fscore)))\n",
        "print(classification_report(y_true,y_predict))\n",
        "cm=confusion_matrix(y_true,y_predict)"
      ],
      "metadata": {
        "id": "Oec6oGQqpcvd",
        "colab": {
          "base_uri": "https://localhost:8080/"
        },
        "outputId": "14ba250f-bf10-49d6-a3d1-3360afbaa819"
      },
      "execution_count": null,
      "outputs": [
        {
          "output_type": "stream",
          "name": "stdout",
          "text": [
            "Accuracy of RF: 0.9955406911928651\n",
            "Precision of RF: 0.996086843912931\n",
            "Recall of RF: 0.9955406911928651\n",
            "F1-score of RF: 0.9955815249799072\n",
            "              precision    recall  f1-score   support\n",
            "\n",
            "           0       1.00      0.88      0.93        24\n",
            "           1       1.00      1.00      1.00       393\n",
            "           2       1.00      1.00      1.00         4\n",
            "           3       0.95      1.00      0.98        21\n",
            "           4       0.78      1.00      0.88         7\n",
            "           5       1.00      1.00      1.00        12\n",
            "           6       1.00      1.00      1.00       436\n",
            "\n",
            "    accuracy                           1.00       897\n",
            "   macro avg       0.96      0.98      0.97       897\n",
            "weighted avg       1.00      1.00      1.00       897\n",
            "\n"
          ]
        }
      ]
    },
    {
      "cell_type": "markdown",
      "source": [
        "# **XG-Boost**"
      ],
      "metadata": {
        "id": "JH-iWdZJpgSO"
      }
    },
    {
      "cell_type": "code",
      "source": [
        "xg = xgb.XGBClassifier(n_estimators = 10)\n",
        "xg.fit(X_train,y_train)\n",
        "xg_score=xg.score(X_test,y_test)\n",
        "y_predict=xg.predict(X_test)\n",
        "y_true=y_test\n",
        "print('Accuracy of XGBoost: '+ str(xg_score))\n",
        "precision,recall,fscore,none= precision_recall_fscore_support(y_true, y_predict, average='weighted') \n",
        "print('Precision of XGBoost: '+(str(precision)))\n",
        "print('Recall of XGBoost: '+(str(recall)))\n",
        "print('F1-score of XGBoost: '+(str(fscore)))\n",
        "print(classification_report(y_true,y_predict))\n",
        "cm=confusion_matrix(y_true,y_predict)"
      ],
      "metadata": {
        "id": "CSgmQm4Zpf65",
        "colab": {
          "base_uri": "https://localhost:8080/"
        },
        "outputId": "02692bdf-4d01-4d05-cc39-23f0d91e6ec6"
      },
      "execution_count": null,
      "outputs": [
        {
          "output_type": "stream",
          "name": "stdout",
          "text": [
            "Accuracy of XGBoost: 0.9955406911928651\n",
            "Precision of XGBoost: 0.995581230363839\n",
            "Recall of XGBoost: 0.9955406911928651\n",
            "F1-score of XGBoost: 0.9954386794620025\n",
            "              precision    recall  f1-score   support\n",
            "\n",
            "           0       1.00      0.88      0.93        24\n",
            "           1       1.00      1.00      1.00       393\n",
            "           2       1.00      1.00      1.00         4\n",
            "           3       1.00      1.00      1.00        21\n",
            "           4       1.00      1.00      1.00         7\n",
            "           5       1.00      1.00      1.00        12\n",
            "           6       0.99      1.00      1.00       436\n",
            "\n",
            "    accuracy                           1.00       897\n",
            "   macro avg       1.00      0.98      0.99       897\n",
            "weighted avg       1.00      1.00      1.00       897\n",
            "\n"
          ]
        }
      ]
    },
    {
      "cell_type": "markdown",
      "source": [
        "# **Extra Tree**"
      ],
      "metadata": {
        "id": "wlnGon7Upo2f"
      }
    },
    {
      "cell_type": "code",
      "source": [
        "et = ExtraTreesClassifier(random_state = 0)\n",
        "et.fit(X_train,y_train) \n",
        "et_score=et.score(X_test,y_test)\n",
        "y_predict=et.predict(X_test)\n",
        "y_true=y_test\n",
        "print('Accuracy of ET: '+ str(et_score))\n",
        "precision,recall,fscore,none= precision_recall_fscore_support(y_true, y_predict, average='weighted') \n",
        "print('Precision of ET: '+(str(precision)))\n",
        "print('Recall of ET: '+(str(recall)))\n",
        "print('F1-score of ET: '+(str(fscore)))\n",
        "print(classification_report(y_true,y_predict))\n",
        "cm=confusion_matrix(y_true,y_predict)"
      ],
      "metadata": {
        "id": "b4PMiSSnppi0",
        "colab": {
          "base_uri": "https://localhost:8080/"
        },
        "outputId": "1808998e-9821-4946-c5b3-53ed0d01e41e"
      },
      "execution_count": null,
      "outputs": [
        {
          "output_type": "stream",
          "name": "stdout",
          "text": [
            "Accuracy of ET: 0.9955406911928651\n",
            "Precision of ET: 0.9958545392855411\n",
            "Recall of ET: 0.9955406911928651\n",
            "F1-score of ET: 0.9956034972715683\n",
            "              precision    recall  f1-score   support\n",
            "\n",
            "           0       0.96      0.92      0.94        24\n",
            "           1       1.00      1.00      1.00       393\n",
            "           2       0.80      1.00      0.89         4\n",
            "           3       1.00      1.00      1.00        21\n",
            "           4       0.88      1.00      0.93         7\n",
            "           5       1.00      1.00      1.00        12\n",
            "           6       1.00      1.00      1.00       436\n",
            "\n",
            "    accuracy                           1.00       897\n",
            "   macro avg       0.95      0.99      0.96       897\n",
            "weighted avg       1.00      1.00      1.00       897\n",
            "\n"
          ]
        }
      ]
    },
    {
      "cell_type": "markdown",
      "source": [
        "#  **Anomaly-based IDS** "
      ],
      "metadata": {
        "id": "KrSDafCLwqUJ"
      }
    },
    {
      "cell_type": "markdown",
      "source": [
        "# Generate The Port-Scan Datasets For Unknown Attack Detection"
      ],
      "metadata": {
        "id": "OlkGY9r5w2CR"
      }
    },
    {
      "cell_type": "code",
      "source": [
        "df=pd.read_csv('/content/drive/MyDrive/Cyber_Security/CICIDS2019_sample_km.csv')\n",
        "\n",
        "\n",
        "df.Label.value_counts()\n",
        "\n",
        "df1 = df[df['Label'] != 5]\n",
        "df1['Label'][df1['Label'] > 0] = 1\n",
        "df1.to_csv('/content/drive/MyDrive/Cyber_Security/CICIDS2019_sample_km_without_portscan.csv',index=0)\n",
        "\n",
        "df2 = df[df['Label'] == 5]\n",
        "df2['Label'][df2['Label'] == 5] = 1\n",
        "df2.to_csv('/content/drive/MyDrive/Cyber_Security/CICIDS2019_sample_km.csv_portscan.csv',index=0)"
      ],
      "metadata": {
        "id": "51WsMYfow9Oa"
      },
      "execution_count": null,
      "outputs": []
    },
    {
      "cell_type": "markdown",
      "source": [
        "# Read The Generated Datasets For Unknown Attack Detection"
      ],
      "metadata": {
        "id": "luDAs0b8xGfX"
      }
    },
    {
      "cell_type": "code",
      "source": [
        "df1 = pd.read_csv('/content/drive/MyDrive/Cyber_Security/CICIDS2019_sample_km_without_portscan.csv')\n",
        "df2 = pd.read_csv('/content/drive/MyDrive/Cyber_Security/CICIDS2019_sample_km.csv_portscan.csv')\n",
        "\n",
        "features = df1.drop(['Label'],axis=1).dtypes[df1.dtypes != 'object'].index\n",
        "df1[features] = df1[features].apply(\n",
        "    lambda x: (x - x.mean()) / (x.std()))\n",
        "df2[features] = df2[features].apply(\n",
        "    lambda x: (x - x.mean()) / (x.std()))\n",
        "df1 = df1.fillna(0)\n",
        "df2 = df2.fillna(0)\n",
        "\n",
        "df1.Label.value_counts()7\n",
        "\n",
        "df2.Label.value_counts()"
      ],
      "metadata": {
        "id": "wRcYJjJDxC4S",
        "colab": {
          "base_uri": "https://localhost:8080/"
        },
        "outputId": "86af5e5d-646e-4ab5-8ecb-0345f114c75f"
      },
      "execution_count": null,
      "outputs": [
        {
          "output_type": "execute_result",
          "data": {
            "text/plain": [
              "1    57\n",
              "Name: Label, dtype: int64"
            ]
          },
          "metadata": {},
          "execution_count": 19
        }
      ]
    },
    {
      "cell_type": "code",
      "source": [
        "df2p=df1[df1['Label']==0]\n",
        "df2pp=df2p.sample(n=None, frac=1255/18225, replace=False, weights=None, random_state=None, axis=0)\n",
        "df2=pd.concat([df2, df2pp])\n",
        "\n",
        "df2.Label.value_counts()\n",
        "\n",
        "df = df1.append(df2)\n",
        "\n",
        "X = df.drop(['Label'],axis=1) .values\n",
        "y = df.iloc[:, -1].values.reshape(-1,1)\n",
        "y=np.ravel(y)\n",
        "pd.Series(y).value_counts()"
      ],
      "metadata": {
        "id": "2B17367CxKu7",
        "colab": {
          "base_uri": "https://localhost:8080/"
        },
        "outputId": "33b521ab-6356-48e1-c4a8-0bef6fca4d7f"
      },
      "execution_count": null,
      "outputs": [
        {
          "output_type": "execute_result",
          "data": {
            "text/plain": [
              "1    4365\n",
              "0     126\n",
              "dtype: int64"
            ]
          },
          "metadata": {},
          "execution_count": 20
        }
      ]
    },
    {
      "cell_type": "markdown",
      "source": [
        "# **Feature Engineering** "
      ],
      "metadata": {
        "id": "k5WXbXaLxPGI"
      }
    },
    {
      "cell_type": "markdown",
      "source": [
        "# Feature Selection by Information Gain"
      ],
      "metadata": {
        "id": "dasUXLs7xPi_"
      }
    },
    {
      "cell_type": "code",
      "source": [
        "from sklearn.feature_selection import mutual_info_classif\n",
        "importances = mutual_info_classif(X, y)\n",
        "\n",
        "f_list = sorted(zip(map(lambda x: round(x, 4), importances), features), reverse=True)\n",
        "Sum = 0\n",
        "fs = []\n",
        "for i in range(0, len(f_list)):\n",
        "    Sum = Sum + f_list[i][0]\n",
        "    fs.append(f_list[i][1])\n",
        "\n",
        "f_list2 = sorted(zip(map(lambda x: round(x, 4), importances/Sum), features), reverse=True)\n",
        "Sum2 = 0\n",
        "fs = []\n",
        "for i in range(0, len(f_list2)):\n",
        "    Sum2 = Sum2 + f_list2[i][0]\n",
        "    fs.append(f_list2[i][1])\n",
        "    if Sum2>=0.9:\n",
        "        break \n",
        "\n",
        "X_fs = df[fs].values\n",
        "\n",
        "X_fs"
      ],
      "metadata": {
        "id": "gHUnqqY0xcwb",
        "colab": {
          "base_uri": "https://localhost:8080/"
        },
        "outputId": "abb2301e-286b-4222-ec11-d4dc5b6f2c25"
      },
      "execution_count": null,
      "outputs": [
        {
          "output_type": "execute_result",
          "data": {
            "text/plain": [
              "array([[-1.23887277, -0.06764699, -0.06764699, ...,  0.32869268,\n",
              "        -0.13888988, -0.02915145],\n",
              "       [-1.25912665, -0.06672318, -0.06672318, ..., -0.74441831,\n",
              "        -0.13888735, -0.04137752],\n",
              "       [-0.61344546, -0.06762059, -0.06762059, ..., -0.67929003,\n",
              "        -0.05901513, -0.04119639],\n",
              "       ...,\n",
              "       [-1.25912665, -0.06674958, -0.06674958, ..., -0.74441968,\n",
              "        -0.13885956, -0.04133224],\n",
              "       [-1.25912665, -0.06685516, -0.06685516, ..., -0.74440704,\n",
              "        -0.13885893, -0.03933984],\n",
              "       [-1.17834754, -0.06791093, -0.06791093, ..., -0.74442793,\n",
              "        -0.13888988, -0.03929456]])"
            ]
          },
          "metadata": {},
          "execution_count": 21
        }
      ]
    },
    {
      "cell_type": "markdown",
      "source": [
        "# Feature Selection by Fast Correlation Based Filter\n",
        "\n"
      ],
      "metadata": {
        "id": "pqvYS-utxj36"
      }
    },
    {
      "cell_type": "code",
      "source": [
        "fcbf = FCBFK(k = 20)\n",
        "X_fss = fcbf.fit_transform(X_fs,y)\n",
        "X_fss.shape\n",
        "X_fss"
      ],
      "metadata": {
        "id": "PV4jOEW3xksP",
        "colab": {
          "base_uri": "https://localhost:8080/"
        },
        "outputId": "45fff485-b5f1-435b-f1be-aed2b5608145"
      },
      "execution_count": null,
      "outputs": [
        {
          "output_type": "execute_result",
          "data": {
            "text/plain": [
              "array([[ 0.78298135,  0.78189607, -0.22674493, ..., -0.22442521,\n",
              "        -0.23482476, -0.08569367],\n",
              "       [ 8.14258422,  8.13968248,  7.21894807, ...,  0.13358435,\n",
              "         0.08079543, -0.09072586],\n",
              "       [-0.29403371, -0.29485316, -0.22674493, ...,  6.8389573 ,\n",
              "         5.71106898, -0.08820977],\n",
              "       ...,\n",
              "       [ 7.96308171,  7.96022428,  6.91504224, ...,  0.11897171,\n",
              "         0.06948656, -0.09827415],\n",
              "       [ 7.24507167,  7.24239146,  8.43457142, ...,  0.19203489,\n",
              "         0.09827277, -0.09072586],\n",
              "       [ 0.06497131,  0.06406325, -0.22674493, ..., -0.22442521,\n",
              "        -0.25538634, -0.09575806]])"
            ]
          },
          "metadata": {},
          "execution_count": 22
        }
      ]
    },
    {
      "cell_type": "markdown",
      "source": [
        "# Kernel Principal Component Analysis"
      ],
      "metadata": {
        "id": "xoZzTcuhxsA3"
      }
    },
    {
      "cell_type": "code",
      "source": [
        "from sklearn.decomposition import KernelPCA\n",
        "kpca = KernelPCA(n_components = 10, kernel = 'rbf')\n",
        "kpca.fit(X_fss, y)\n",
        "X_kpca = kpca.transform(X_fss)\n",
        "\n",
        "# from sklearn.decomposition import PCA\n",
        "# kpca = PCA(n_components = 10)\n",
        "# kpca.fit(X_fss, y)\n",
        "# X_kpca = kpca.transform(X_fss)"
      ],
      "metadata": {
        "id": "qu0P6HEQxnJ3"
      },
      "execution_count": null,
      "outputs": []
    },
    {
      "cell_type": "markdown",
      "source": [
        "# Train-Test Split After Feature Selection"
      ],
      "metadata": {
        "id": "ZQ3bU3O-x0UR"
      }
    },
    {
      "cell_type": "code",
      "source": [
        "X_train = X_kpca[:len(df1)]\n",
        "y_train = y[:len(df1)]\n",
        "X_test = X_kpca[len(df1):]\n",
        "y_test = y[len(df1):]"
      ],
      "metadata": {
        "id": "lTuRNuXTxnSP"
      },
      "execution_count": null,
      "outputs": []
    },
    {
      "cell_type": "markdown",
      "source": [
        "# Solve Class-Imbalance by SMOTE"
      ],
      "metadata": {
        "id": "PJB9ki_rx5cj"
      }
    },
    {
      "cell_type": "code",
      "source": [
        "pd.Series(y_train).value_counts()\n",
        "\n",
        "from imblearn.over_sampling import SMOTE\n",
        "smote=SMOTE(n_jobs=-1,sampling_strategy={1:18225})\n",
        "X_train, y_train = smote.fit_resample(X_train, y_train)\n",
        "\n",
        "pd.Series(y_train).value_counts()\n",
        "\n",
        "pd.Series(y_test).value_counts()"
      ],
      "metadata": {
        "id": "jVpubg5jx6MR",
        "colab": {
          "base_uri": "https://localhost:8080/"
        },
        "outputId": "a15408fb-8b8c-4652-b288-76090f25cd24"
      },
      "execution_count": null,
      "outputs": [
        {
          "output_type": "execute_result",
          "data": {
            "text/plain": [
              "1    57\n",
              "0     8\n",
              "dtype: int64"
            ]
          },
          "metadata": {},
          "execution_count": 25
        }
      ]
    },
    {
      "cell_type": "markdown",
      "source": [
        "# Apply The Cluster Labeling K-Means Method"
      ],
      "metadata": {
        "id": "dWrWHZwCyAKh"
      }
    },
    {
      "cell_type": "code",
      "source": [
        "def CL_kmeans(X_train, X_test, y_train, y_test,n,b=100):\n",
        "    km_cluster = MiniBatchKMeans(n_clusters=n,batch_size=b)\n",
        "    result = km_cluster.fit_predict(X_train)\n",
        "    result2 = km_cluster.predict(X_test)\n",
        "\n",
        "    count=0\n",
        "    a=np.zeros(n)\n",
        "    b=np.zeros(n)\n",
        "    for v in range(0,n):\n",
        "        for i in range(0,len(y_train)):\n",
        "            if result[i]==v:\n",
        "                if y_train[i]==1:\n",
        "                    a[v]=a[v]+1\n",
        "                else:\n",
        "                    b[v]=b[v]+1\n",
        "    list1=[]\n",
        "    list2=[]\n",
        "    for v in range(0,n):\n",
        "        if a[v]<=b[v]:\n",
        "            list1.append(v)\n",
        "        else: \n",
        "            list2.append(v)\n",
        "    for v in range(0,len(y_test)):\n",
        "        if result2[v] in list1:\n",
        "            result2[v]=0\n",
        "        elif result2[v] in list2:\n",
        "            result2[v]=1\n",
        "        else:\n",
        "            print(\"-1\")\n",
        "    print(classification_report(y_test, result2))\n",
        "    cm=confusion_matrix(y_test,result2)\n",
        "    acc=metrics.accuracy_score(y_test,result2)\n",
        "    print(str(acc))\n",
        "    print(cm)\n",
        "\n",
        "CL_kmeans(X_train, X_test, y_train, y_test, 8)"
      ],
      "metadata": {
        "id": "XLXCcGj2yBGQ",
        "colab": {
          "base_uri": "https://localhost:8080/"
        },
        "outputId": "6b1be93c-04b6-4805-866e-dfb7c49a001d"
      },
      "execution_count": null,
      "outputs": [
        {
          "output_type": "stream",
          "name": "stdout",
          "text": [
            "              precision    recall  f1-score   support\n",
            "\n",
            "           0       0.00      0.00      0.00         8\n",
            "           1       0.88      1.00      0.93        57\n",
            "\n",
            "    accuracy                           0.88        65\n",
            "   macro avg       0.44      0.50      0.47        65\n",
            "weighted avg       0.77      0.88      0.82        65\n",
            "\n",
            "0.8769230769230769\n",
            "[[ 0  8]\n",
            " [ 0 57]]\n"
          ]
        }
      ]
    },
    {
      "cell_type": "markdown",
      "source": [
        "# CNN For IDS"
      ],
      "metadata": {
        "id": "pxwkmnghyIK6"
      }
    },
    {
      "cell_type": "code",
      "source": [
        "df = pd.read_csv('/content/drive/MyDrive/Cyber_Security/CICIDS2019_sample.csv',encoding=\"utf-8\")\n",
        "features = df.dtypes[df.dtypes != 'object'].index\n",
        "df[features] = df[features].apply(\n",
        "    lambda x: (x - x.mean()) / (x.std()))\n",
        "df = df.fillna(0)\n"
      ],
      "metadata": {
        "id": "NB4pZCM8yJQI"
      },
      "execution_count": null,
      "outputs": []
    },
    {
      "cell_type": "code",
      "source": [
        "x = df\n",
        "\n",
        "labelencoder = LabelEncoder()\n",
        "df.iloc[:, -1] = labelencoder.fit_transform(df.iloc[:, -1])\n",
        "\n",
        "y = pd.DataFrame(df['Label'],columns=['Label'])\n",
        "del x['Label']\n",
        "\n",
        "from sklearn.model_selection import train_test_split\n",
        "xtrain, xtest, ytrain,ytest = train_test_split(x,y,test_size = 0.20)"
      ],
      "metadata": {
        "id": "woes0OiiyL6I"
      },
      "execution_count": null,
      "outputs": []
    },
    {
      "cell_type": "code",
      "source": [
        "model = Sequential()\n",
        "model.add(Conv1D(64, 2, activation=\"relu\", input_shape=(77,1)))\n",
        "model.add(MaxPooling1D())\n",
        "model.add(Dense(16, activation=\"relu\"))\n",
        "model.add(Flatten())\n",
        "model.add(Dense(7, activation = 'softmax'))\n",
        "model.compile(loss = 'sparse_categorical_crossentropy',optimizer = \"adam\",metrics = ['accuracy'])\n",
        "model.summary()"
      ],
      "metadata": {
        "id": "qq5t1o6AyL8_",
        "colab": {
          "base_uri": "https://localhost:8080/"
        },
        "outputId": "9220925d-25cf-4d10-c76f-2ec4a08a1a24"
      },
      "execution_count": null,
      "outputs": [
        {
          "output_type": "stream",
          "name": "stdout",
          "text": [
            "Model: \"sequential\"\n",
            "_________________________________________________________________\n",
            " Layer (type)                Output Shape              Param #   \n",
            "=================================================================\n",
            " conv1d (Conv1D)             (None, 76, 64)            192       \n",
            "                                                                 \n",
            " max_pooling1d (MaxPooling1D  (None, 38, 64)           0         \n",
            " )                                                               \n",
            "                                                                 \n",
            " dense (Dense)               (None, 38, 16)            1040      \n",
            "                                                                 \n",
            " flatten (Flatten)           (None, 608)               0         \n",
            "                                                                 \n",
            " dense_1 (Dense)             (None, 7)                 4263      \n",
            "                                                                 \n",
            "=================================================================\n",
            "Total params: 5,495\n",
            "Trainable params: 5,495\n",
            "Non-trainable params: 0\n",
            "_________________________________________________________________\n"
          ]
        }
      ]
    },
    {
      "cell_type": "code",
      "source": [
        "history = model.fit(xtrain, ytrain, epochs=10 )"
      ],
      "metadata": {
        "id": "T2d2IxHjyXCb",
        "colab": {
          "base_uri": "https://localhost:8080/"
        },
        "outputId": "e90841c2-e1dd-4d12-d557-b1bc275f1185"
      },
      "execution_count": null,
      "outputs": [
        {
          "output_type": "stream",
          "name": "stdout",
          "text": [
            "Epoch 1/10\n",
            "1417/1417 [==============================] - 12s 8ms/step - loss: 0.3662 - accuracy: 0.8762\n",
            "Epoch 2/10\n",
            "1417/1417 [==============================] - 10s 7ms/step - loss: 0.2196 - accuracy: 0.9199\n",
            "Epoch 3/10\n",
            "1417/1417 [==============================] - 10s 7ms/step - loss: 0.2017 - accuracy: 0.9261\n",
            "Epoch 4/10\n",
            "1417/1417 [==============================] - 11s 8ms/step - loss: 0.1877 - accuracy: 0.9309\n",
            "Epoch 5/10\n",
            "1417/1417 [==============================] - 11s 8ms/step - loss: 0.1791 - accuracy: 0.9332\n",
            "Epoch 6/10\n",
            "1417/1417 [==============================] - 9s 6ms/step - loss: 0.1761 - accuracy: 0.9343\n",
            "Epoch 7/10\n",
            "1417/1417 [==============================] - 12s 8ms/step - loss: 0.1646 - accuracy: 0.9378\n",
            "Epoch 8/10\n",
            "1417/1417 [==============================] - 11s 8ms/step - loss: 0.1585 - accuracy: 0.9401\n",
            "Epoch 9/10\n",
            "1417/1417 [==============================] - 10s 7ms/step - loss: 0.1551 - accuracy: 0.9416\n",
            "Epoch 10/10\n",
            "1417/1417 [==============================] - 10s 7ms/step - loss: 0.1492 - accuracy: 0.9456\n"
          ]
        }
      ]
    },
    {
      "cell_type": "code",
      "source": [
        "accuracy = model.evaluate(xtest,ytest)"
      ],
      "metadata": {
        "id": "YXGjh3Q6yalj",
        "colab": {
          "base_uri": "https://localhost:8080/"
        },
        "outputId": "90c1844d-aedd-4964-8928-75c937160c2a"
      },
      "execution_count": null,
      "outputs": [
        {
          "output_type": "stream",
          "name": "stdout",
          "text": [
            "355/355 [==============================] - 1s 3ms/step - loss: 0.1432 - accuracy: 0.9476\n"
          ]
        }
      ]
    },
    {
      "cell_type": "code",
      "source": [
        "def plot_graphs(history, metric):\n",
        "  plt.plot(history.history[metric])\n",
        "  plt.plot(history.history[str(metric)], '')\n",
        "  plt.xlabel(\"Epochs\")\n",
        "  plt.ylabel(metric)\n",
        "  plt.legend([metric])\n"
      ],
      "metadata": {
        "id": "oDHj2F2fyddi"
      },
      "execution_count": null,
      "outputs": []
    },
    {
      "cell_type": "code",
      "source": [
        "plt.figure(figsize=(16, 8))\n",
        "plt.subplot(1, 2, 1)\n",
        "plot_graphs(history, 'accuracy')\n",
        "plt.ylim(None, 1)\n",
        "plt.subplot(1, 2, 2)\n",
        "plot_graphs(history, 'loss')\n",
        "plt.ylim(0, None)"
      ],
      "metadata": {
        "id": "edOTMpNJyepw",
        "colab": {
          "base_uri": "https://localhost:8080/",
          "height": 718
        },
        "outputId": "14fea843-c420-4271-d50e-c2142c8e461d"
      },
      "execution_count": null,
      "outputs": [
        {
          "output_type": "execute_result",
          "data": {
            "text/plain": [
              "(0.0, 0.37702846750617025)"
            ]
          },
          "metadata": {},
          "execution_count": 33
        },
        {
          "output_type": "display_data",
          "data": {
            "text/plain": [
              "<Figure size 1600x800 with 2 Axes>"
            ],
            "image/png": "[encoded data removed]"
          },
          "metadata": {}
        }
      ]
    }
  ]
}